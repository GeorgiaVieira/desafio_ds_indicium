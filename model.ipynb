{
 "cells": [
  {
   "cell_type": "code",
   "execution_count": 1,
   "id": "fb80e5ec-3328-4a66-b59b-fa3c3e250ab8",
   "metadata": {},
   "outputs": [],
   "source": [
    "## modelagem"
   ]
  },
  {
   "cell_type": "markdown",
   "id": "90329cec-9dd6-4fb7-8501-45d491774ab5",
   "metadata": {},
   "source": [
    "## Pergunta 3: Fazendo a previsão dos dados\n",
    "\n",
    "### Para fazer a previsão dos dados, vou criar um modelo:"
   ]
  },
  {
   "cell_type": "markdown",
   "id": "e740bc75-2a97-4ec1-8344-3ca2a0b36226",
   "metadata": {},
   "source": [
    "#### Considerando que os grupos de bairros e os tipos de quartos concentram valores mais altos de anúncio, vou modelar uma regressão linear para tentar prever o valor dos anúncios. \n",
    "\n",
    "#### Para fazer essa previsão, vou separar 80% dos dados para o treinamento e 20% deles para testes.\n",
    "\n",
    "#### Além disso, aproveitando a provocação do enúnciado, resolvi escolher um Random Forest como modelo de classificação.\n",
    "\n",
    "#### Usarei as métricas de MAE, RMSE e R² para comparar os modelos!"
   ]
  },
  {
   "cell_type": "code",
   "execution_count": 2,
   "id": "3af477da-1af6-4790-901b-2dfff61c0d75",
   "metadata": {},
   "outputs": [],
   "source": [
    "import pandas\n",
    "import numpy as np\n",
    "import matplotlib.pyplot as plt\n",
    "import seaborn as sns\n",
    "from sklearn.model_selection import train_test_split\n",
    "from sklearn.linear_model import LinearRegression\n",
    "from sklearn.ensemble import RandomForestRegressor\n",
    "from sklearn.metrics import mean_absolute_error, mean_squared_error, r2_score\n",
    "import time\n",
    "import pickle"
   ]
  },
  {
   "cell_type": "code",
   "execution_count": 3,
   "id": "81f14222-12f3-46ba-a815-929329a1c62e",
   "metadata": {},
   "outputs": [],
   "source": [
    "def avaliar_modelo(y_true, y_pred, modelo_nome):\n",
    "    mae = mean_absolute_error(y_true, y_pred)\n",
    "    mse = mean_squared_error(y_true, y_pred)\n",
    "    rmse = np.sqrt(mse)\n",
    "    r2 = r2_score(y_true, y_pred)\n",
    "    \n",
    "    print(f\"📊 {modelo_nome} Performance:\")\n",
    "    print(f\"MAE: {mae:.2f}\")\n",
    "    print(f\"RMSE: {rmse:.2f}\")\n",
    "    print(f\"R²: {r2:.2f}\")\n",
    "    print(\"-\" * 40)"
   ]
  },
  {
   "cell_type": "code",
   "execution_count": 4,
   "id": "46ea2a42-5f9f-428f-91e5-1b6dc5b95f72",
   "metadata": {},
   "outputs": [],
   "source": [
    "df = pandas.read_csv(\"teste_indicium_precificacao.csv\")"
   ]
  },
  {
   "cell_type": "code",
   "execution_count": 5,
   "id": "8e5823b5-69fa-4800-b642-69918ea63208",
   "metadata": {},
   "outputs": [],
   "source": [
    "## A regressão linear não funciona muito bem com dados faltantes, então vou  tirar os valores nulos dos dados\n",
    "df = df.dropna()"
   ]
  },
  {
   "cell_type": "code",
   "execution_count": 6,
   "id": "581246f1-54bd-47e4-9513-e5325550c400",
   "metadata": {},
   "outputs": [
    {
     "data": {
      "text/html": [
       "<div>\n",
       "<style scoped>\n",
       "    .dataframe tbody tr th:only-of-type {\n",
       "        vertical-align: middle;\n",
       "    }\n",
       "\n",
       "    .dataframe tbody tr th {\n",
       "        vertical-align: top;\n",
       "    }\n",
       "\n",
       "    .dataframe thead th {\n",
       "        text-align: right;\n",
       "    }\n",
       "</style>\n",
       "<table border=\"1\" class=\"dataframe\">\n",
       "  <thead>\n",
       "    <tr style=\"text-align: right;\">\n",
       "      <th></th>\n",
       "      <th>id</th>\n",
       "      <th>nome</th>\n",
       "      <th>host_id</th>\n",
       "      <th>host_name</th>\n",
       "      <th>bairro_group</th>\n",
       "      <th>bairro</th>\n",
       "      <th>latitude</th>\n",
       "      <th>longitude</th>\n",
       "      <th>room_type</th>\n",
       "      <th>price</th>\n",
       "      <th>minimo_noites</th>\n",
       "      <th>numero_de_reviews</th>\n",
       "      <th>ultima_review</th>\n",
       "      <th>reviews_por_mes</th>\n",
       "      <th>calculado_host_listings_count</th>\n",
       "      <th>disponibilidade_365</th>\n",
       "    </tr>\n",
       "  </thead>\n",
       "  <tbody>\n",
       "    <tr>\n",
       "      <th>0</th>\n",
       "      <td>2595</td>\n",
       "      <td>Skylit Midtown Castle</td>\n",
       "      <td>2845</td>\n",
       "      <td>Jennifer</td>\n",
       "      <td>Manhattan</td>\n",
       "      <td>Midtown</td>\n",
       "      <td>40.75362</td>\n",
       "      <td>-73.98377</td>\n",
       "      <td>Entire home/apt</td>\n",
       "      <td>225</td>\n",
       "      <td>1</td>\n",
       "      <td>45</td>\n",
       "      <td>2019-05-21</td>\n",
       "      <td>0.38</td>\n",
       "      <td>2</td>\n",
       "      <td>355</td>\n",
       "    </tr>\n",
       "    <tr>\n",
       "      <th>2</th>\n",
       "      <td>3831</td>\n",
       "      <td>Cozy Entire Floor of Brownstone</td>\n",
       "      <td>4869</td>\n",
       "      <td>LisaRoxanne</td>\n",
       "      <td>Brooklyn</td>\n",
       "      <td>Clinton Hill</td>\n",
       "      <td>40.68514</td>\n",
       "      <td>-73.95976</td>\n",
       "      <td>Entire home/apt</td>\n",
       "      <td>89</td>\n",
       "      <td>1</td>\n",
       "      <td>270</td>\n",
       "      <td>2019-07-05</td>\n",
       "      <td>4.64</td>\n",
       "      <td>1</td>\n",
       "      <td>194</td>\n",
       "    </tr>\n",
       "    <tr>\n",
       "      <th>3</th>\n",
       "      <td>5022</td>\n",
       "      <td>Entire Apt: Spacious Studio/Loft by central park</td>\n",
       "      <td>7192</td>\n",
       "      <td>Laura</td>\n",
       "      <td>Manhattan</td>\n",
       "      <td>East Harlem</td>\n",
       "      <td>40.79851</td>\n",
       "      <td>-73.94399</td>\n",
       "      <td>Entire home/apt</td>\n",
       "      <td>80</td>\n",
       "      <td>10</td>\n",
       "      <td>9</td>\n",
       "      <td>2018-11-19</td>\n",
       "      <td>0.10</td>\n",
       "      <td>1</td>\n",
       "      <td>0</td>\n",
       "    </tr>\n",
       "    <tr>\n",
       "      <th>4</th>\n",
       "      <td>5099</td>\n",
       "      <td>Large Cozy 1 BR Apartment In Midtown East</td>\n",
       "      <td>7322</td>\n",
       "      <td>Chris</td>\n",
       "      <td>Manhattan</td>\n",
       "      <td>Murray Hill</td>\n",
       "      <td>40.74767</td>\n",
       "      <td>-73.97500</td>\n",
       "      <td>Entire home/apt</td>\n",
       "      <td>200</td>\n",
       "      <td>3</td>\n",
       "      <td>74</td>\n",
       "      <td>2019-06-22</td>\n",
       "      <td>0.59</td>\n",
       "      <td>1</td>\n",
       "      <td>129</td>\n",
       "    </tr>\n",
       "    <tr>\n",
       "      <th>5</th>\n",
       "      <td>5121</td>\n",
       "      <td>BlissArtsSpace!</td>\n",
       "      <td>7356</td>\n",
       "      <td>Garon</td>\n",
       "      <td>Brooklyn</td>\n",
       "      <td>Bedford-Stuyvesant</td>\n",
       "      <td>40.68688</td>\n",
       "      <td>-73.95596</td>\n",
       "      <td>Private room</td>\n",
       "      <td>60</td>\n",
       "      <td>45</td>\n",
       "      <td>49</td>\n",
       "      <td>2017-10-05</td>\n",
       "      <td>0.40</td>\n",
       "      <td>1</td>\n",
       "      <td>0</td>\n",
       "    </tr>\n",
       "    <tr>\n",
       "      <th>...</th>\n",
       "      <td>...</td>\n",
       "      <td>...</td>\n",
       "      <td>...</td>\n",
       "      <td>...</td>\n",
       "      <td>...</td>\n",
       "      <td>...</td>\n",
       "      <td>...</td>\n",
       "      <td>...</td>\n",
       "      <td>...</td>\n",
       "      <td>...</td>\n",
       "      <td>...</td>\n",
       "      <td>...</td>\n",
       "      <td>...</td>\n",
       "      <td>...</td>\n",
       "      <td>...</td>\n",
       "      <td>...</td>\n",
       "    </tr>\n",
       "    <tr>\n",
       "      <th>48781</th>\n",
       "      <td>36425863</td>\n",
       "      <td>Lovely Privet Bedroom with Privet Restroom</td>\n",
       "      <td>83554966</td>\n",
       "      <td>Rusaa</td>\n",
       "      <td>Manhattan</td>\n",
       "      <td>Upper East Side</td>\n",
       "      <td>40.78099</td>\n",
       "      <td>-73.95366</td>\n",
       "      <td>Private room</td>\n",
       "      <td>129</td>\n",
       "      <td>1</td>\n",
       "      <td>1</td>\n",
       "      <td>2019-07-07</td>\n",
       "      <td>1.00</td>\n",
       "      <td>1</td>\n",
       "      <td>147</td>\n",
       "    </tr>\n",
       "    <tr>\n",
       "      <th>48789</th>\n",
       "      <td>36427429</td>\n",
       "      <td>No.2 with queen size bed</td>\n",
       "      <td>257683179</td>\n",
       "      <td>H Ai</td>\n",
       "      <td>Queens</td>\n",
       "      <td>Flushing</td>\n",
       "      <td>40.75104</td>\n",
       "      <td>-73.81459</td>\n",
       "      <td>Private room</td>\n",
       "      <td>45</td>\n",
       "      <td>1</td>\n",
       "      <td>1</td>\n",
       "      <td>2019-07-07</td>\n",
       "      <td>1.00</td>\n",
       "      <td>6</td>\n",
       "      <td>339</td>\n",
       "    </tr>\n",
       "    <tr>\n",
       "      <th>48798</th>\n",
       "      <td>36438336</td>\n",
       "      <td>Seas The Moment</td>\n",
       "      <td>211644523</td>\n",
       "      <td>Ben</td>\n",
       "      <td>Staten Island</td>\n",
       "      <td>Great Kills</td>\n",
       "      <td>40.54179</td>\n",
       "      <td>-74.14275</td>\n",
       "      <td>Private room</td>\n",
       "      <td>235</td>\n",
       "      <td>1</td>\n",
       "      <td>1</td>\n",
       "      <td>2019-07-07</td>\n",
       "      <td>1.00</td>\n",
       "      <td>1</td>\n",
       "      <td>87</td>\n",
       "    </tr>\n",
       "    <tr>\n",
       "      <th>48804</th>\n",
       "      <td>36442252</td>\n",
       "      <td>1B-1B apartment near by Metro</td>\n",
       "      <td>273841667</td>\n",
       "      <td>Blaine</td>\n",
       "      <td>Bronx</td>\n",
       "      <td>Mott Haven</td>\n",
       "      <td>40.80787</td>\n",
       "      <td>-73.92400</td>\n",
       "      <td>Entire home/apt</td>\n",
       "      <td>100</td>\n",
       "      <td>1</td>\n",
       "      <td>2</td>\n",
       "      <td>2019-07-07</td>\n",
       "      <td>2.00</td>\n",
       "      <td>1</td>\n",
       "      <td>40</td>\n",
       "    </tr>\n",
       "    <tr>\n",
       "      <th>48851</th>\n",
       "      <td>36455809</td>\n",
       "      <td>Cozy Private Room in Bushwick, Brooklyn</td>\n",
       "      <td>74162901</td>\n",
       "      <td>Christine</td>\n",
       "      <td>Brooklyn</td>\n",
       "      <td>Bushwick</td>\n",
       "      <td>40.69805</td>\n",
       "      <td>-73.92801</td>\n",
       "      <td>Private room</td>\n",
       "      <td>30</td>\n",
       "      <td>1</td>\n",
       "      <td>1</td>\n",
       "      <td>2019-07-08</td>\n",
       "      <td>1.00</td>\n",
       "      <td>1</td>\n",
       "      <td>1</td>\n",
       "    </tr>\n",
       "  </tbody>\n",
       "</table>\n",
       "<p>38820 rows × 16 columns</p>\n",
       "</div>"
      ],
      "text/plain": [
       "             id                                              nome    host_id  \\\n",
       "0          2595                             Skylit Midtown Castle       2845   \n",
       "2          3831                   Cozy Entire Floor of Brownstone       4869   \n",
       "3          5022  Entire Apt: Spacious Studio/Loft by central park       7192   \n",
       "4          5099         Large Cozy 1 BR Apartment In Midtown East       7322   \n",
       "5          5121                                   BlissArtsSpace!       7356   \n",
       "...         ...                                               ...        ...   \n",
       "48781  36425863        Lovely Privet Bedroom with Privet Restroom   83554966   \n",
       "48789  36427429                          No.2 with queen size bed  257683179   \n",
       "48798  36438336                                   Seas The Moment  211644523   \n",
       "48804  36442252                     1B-1B apartment near by Metro  273841667   \n",
       "48851  36455809           Cozy Private Room in Bushwick, Brooklyn   74162901   \n",
       "\n",
       "         host_name   bairro_group              bairro  latitude  longitude  \\\n",
       "0         Jennifer      Manhattan             Midtown  40.75362  -73.98377   \n",
       "2      LisaRoxanne       Brooklyn        Clinton Hill  40.68514  -73.95976   \n",
       "3            Laura      Manhattan         East Harlem  40.79851  -73.94399   \n",
       "4            Chris      Manhattan         Murray Hill  40.74767  -73.97500   \n",
       "5            Garon       Brooklyn  Bedford-Stuyvesant  40.68688  -73.95596   \n",
       "...            ...            ...                 ...       ...        ...   \n",
       "48781        Rusaa      Manhattan     Upper East Side  40.78099  -73.95366   \n",
       "48789         H Ai         Queens            Flushing  40.75104  -73.81459   \n",
       "48798          Ben  Staten Island         Great Kills  40.54179  -74.14275   \n",
       "48804       Blaine          Bronx          Mott Haven  40.80787  -73.92400   \n",
       "48851    Christine       Brooklyn            Bushwick  40.69805  -73.92801   \n",
       "\n",
       "             room_type  price  minimo_noites  numero_de_reviews ultima_review  \\\n",
       "0      Entire home/apt    225              1                 45    2019-05-21   \n",
       "2      Entire home/apt     89              1                270    2019-07-05   \n",
       "3      Entire home/apt     80             10                  9    2018-11-19   \n",
       "4      Entire home/apt    200              3                 74    2019-06-22   \n",
       "5         Private room     60             45                 49    2017-10-05   \n",
       "...                ...    ...            ...                ...           ...   \n",
       "48781     Private room    129              1                  1    2019-07-07   \n",
       "48789     Private room     45              1                  1    2019-07-07   \n",
       "48798     Private room    235              1                  1    2019-07-07   \n",
       "48804  Entire home/apt    100              1                  2    2019-07-07   \n",
       "48851     Private room     30              1                  1    2019-07-08   \n",
       "\n",
       "       reviews_por_mes  calculado_host_listings_count  disponibilidade_365  \n",
       "0                 0.38                              2                  355  \n",
       "2                 4.64                              1                  194  \n",
       "3                 0.10                              1                    0  \n",
       "4                 0.59                              1                  129  \n",
       "5                 0.40                              1                    0  \n",
       "...                ...                            ...                  ...  \n",
       "48781             1.00                              1                  147  \n",
       "48789             1.00                              6                  339  \n",
       "48798             1.00                              1                   87  \n",
       "48804             2.00                              1                   40  \n",
       "48851             1.00                              1                    1  \n",
       "\n",
       "[38820 rows x 16 columns]"
      ]
     },
     "execution_count": 6,
     "metadata": {},
     "output_type": "execute_result"
    }
   ],
   "source": [
    "df"
   ]
  },
  {
   "cell_type": "code",
   "execution_count": 7,
   "id": "26049e65-89a5-4f1f-8246-fc9f783191f9",
   "metadata": {},
   "outputs": [],
   "source": [
    "## Transformando as variáveis categóricas em numéricas para poder usar na regressão\n",
    "df = pandas.get_dummies(df, columns=['bairro_group', 'room_type'], drop_first=True)"
   ]
  },
  {
   "cell_type": "code",
   "execution_count": 8,
   "id": "d1d5a879-4030-4cab-83d6-df45a3c65d38",
   "metadata": {},
   "outputs": [],
   "source": [
    "# Distribuição sem suavização dos outliers\n",
    "#plt.figure(figsize=(5, 5))\n",
    "#sns.histplot(df['price'], bins=40, kde=True)\n",
    "#plt.title(\"Distribuição dos Preços por Noite\")\n",
    "#plt.xlabel(\"Preço\")\n",
    "#plt.ylabel(\"Quantidade de registros\")\n",
    "#plt.show()"
   ]
  },
  {
   "cell_type": "code",
   "execution_count": 9,
   "id": "b7157a2e-6a74-4d10-a30a-7122c90c4c3d",
   "metadata": {},
   "outputs": [],
   "source": [
    "# Aprendi durante esse exercício! Aregressão linear é sensível à outliers e, ao invés de eu retirar os dados, resolvi utilizar\n",
    "# uma função log que suavira a distribuição dos dados\n",
    "df['price'] = np.log1p(df['price'])"
   ]
  },
  {
   "cell_type": "code",
   "execution_count": 10,
   "id": "84188a26-5955-40e3-9605-eb5246fb4800",
   "metadata": {},
   "outputs": [],
   "source": [
    "# Distribuição depois de aplicar log ao valor de preço para suavizar os outliers\n",
    "#plt.figure(figsize=(5, 5))\n",
    "#sns.histplot(df['price'], bins=40, kde=True)\n",
    "#plt.title(\"Distribuição dos Preços por Noite\")\n",
    "#plt.xlabel(\"Preço\")\n",
    "#plt.ylabel(\"Quantidade de registros\")\n",
    "#plt.show()"
   ]
  },
  {
   "cell_type": "markdown",
   "id": "fbf5b2ec-523e-4508-8482-22c0fa1c0366",
   "metadata": {},
   "source": [
    "## Modelando utilizando Bairro Group, Room Type"
   ]
  },
  {
   "cell_type": "code",
   "execution_count": 11,
   "id": "9955f991-f3a0-423c-88c1-a415a0b987b2",
   "metadata": {},
   "outputs": [],
   "source": [
    "## Seleção de Features, aqui vou transformar todos os grupos de bairros em uma feature distinta e todos os tipos de quarto em outra feature\n",
    "features = [col for col in df.columns if col.startswith('bairro_group_') or col.startswith('room_type_')]\n",
    "\n",
    "predict = 'price'"
   ]
  },
  {
   "cell_type": "code",
   "execution_count": null,
   "id": "9d00cf8f-4d7d-4044-9a62-f743a1946dd7",
   "metadata": {},
   "outputs": [],
   "source": []
  },
  {
   "cell_type": "code",
   "execution_count": 12,
   "id": "6729992a-089e-4836-b14a-5948ef5ca054",
   "metadata": {},
   "outputs": [],
   "source": [
    "## Separando dados de treino e t este\n",
    "X_train, X_test, y_train, y_test = train_test_split(df[features], df[predict], test_size=0.2, random_state=42)"
   ]
  },
  {
   "cell_type": "code",
   "execution_count": 13,
   "id": "214dd5b1-c52e-4cbb-8797-85b228c24af1",
   "metadata": {},
   "outputs": [
    {
     "name": "stdout",
     "output_type": "stream",
     "text": [
      "Tempo de treino: 0.01s\n"
     ]
    }
   ],
   "source": [
    "## Fazendo a regressão linear\n",
    "start = time.time()\n",
    "regressao = LinearRegression()\n",
    "regressao.fit(X_train, y_train)\n",
    "predict_regressao = regressao.predict(X_test)\n",
    "end = time.time()\n",
    "\n",
    "print(f\"Tempo de treino: {round(end - start,3)}s\")"
   ]
  },
  {
   "cell_type": "code",
   "execution_count": 14,
   "id": "a2bcb1b4-6aa0-4a77-8d90-cb8b71670a04",
   "metadata": {},
   "outputs": [
    {
     "name": "stdout",
     "output_type": "stream",
     "text": [
      "Tempo de treino: 0.49s\n"
     ]
    }
   ],
   "source": [
    "# Fazendo a RandomForestRegressor do sklearn\n",
    "start = time.time()\n",
    "random_forest = RandomForestRegressor(n_estimators=100, random_state=42)\n",
    "random_forest.fit(X_train, y_train)\n",
    "predicr_random_forest = random_forest.predict(X_test)\n",
    "end = time.time()\n",
    "print(f\"Tempo de treino: {round(end - start,3)}s\")"
   ]
  },
  {
   "cell_type": "code",
   "execution_count": 15,
   "id": "25df0af2-1616-4e9e-93f8-846691419e52",
   "metadata": {},
   "outputs": [
    {
     "name": "stdout",
     "output_type": "stream",
     "text": [
      "📊 Regressão Linear Performance:\n",
      "MAE: 0.35\n",
      "RMSE: 0.47\n",
      "R²: 0.49\n",
      "----------------------------------------\n",
      "📊 Random Forest Performance:\n",
      "MAE: 0.35\n",
      "RMSE: 0.47\n",
      "R²: 0.49\n",
      "----------------------------------------\n"
     ]
    }
   ],
   "source": [
    "avaliar_modelo(y_test, predict_regressao, \"Regressão Linear\")\n",
    "avaliar_modelo(y_test, predicr_random_forest, \"Random Forest\")"
   ]
  },
  {
   "cell_type": "markdown",
   "id": "4fdfcc35-40d0-4a8e-a2a8-ce869ffb20d9",
   "metadata": {},
   "source": [
    "## Fazendo o mesmo para os bairros e o room type"
   ]
  },
  {
   "cell_type": "code",
   "execution_count": 16,
   "id": "432cf9b8-eacb-4236-aecb-1e393751bb0a",
   "metadata": {},
   "outputs": [],
   "source": [
    "df = pandas.read_csv(\"teste_indicium_precificacao.csv\")\n",
    "## A regressão linear não funciona muito bem com dados faltantes, então vou  tirar os valores nulos dos dados\n",
    "df = df.dropna()"
   ]
  },
  {
   "cell_type": "code",
   "execution_count": 17,
   "id": "811e129d-bac9-41c9-b4d8-51688d7b5315",
   "metadata": {},
   "outputs": [],
   "source": [
    "df = pandas.get_dummies(df, columns=['bairro', 'room_type'], drop_first=True)"
   ]
  },
  {
   "cell_type": "code",
   "execution_count": 18,
   "id": "6d1bb074-c018-4ba5-a3b7-43681782d5a1",
   "metadata": {},
   "outputs": [],
   "source": [
    "df['price'] = np.log1p(df['price'])"
   ]
  },
  {
   "cell_type": "code",
   "execution_count": 19,
   "id": "0a9ef637-aef4-4a1c-beeb-d2bbf8ad681a",
   "metadata": {},
   "outputs": [],
   "source": [
    "features = [col for col in df.columns if (col.startswith('bairro_') and col != 'bairro_group')  or col.startswith('room_type_')]\n",
    "\n",
    "predict = 'price'"
   ]
  },
  {
   "cell_type": "code",
   "execution_count": null,
   "id": "2b352a8b-fa50-4c56-8521-edbe209c6f90",
   "metadata": {},
   "outputs": [],
   "source": []
  },
  {
   "cell_type": "code",
   "execution_count": 20,
   "id": "4bbbc604-0028-4735-ba5c-ac132ae31629",
   "metadata": {
    "scrolled": true
   },
   "outputs": [],
   "source": [
    "## Separando dados de treino e t este\n",
    "X_train, X_test, y_train, y_test = train_test_split(df[features], df[predict], test_size=0.2, random_state=42)"
   ]
  },
  {
   "cell_type": "code",
   "execution_count": 21,
   "id": "7a1d834c-0cfe-4800-a2eb-0a3b36bfe54e",
   "metadata": {},
   "outputs": [
    {
     "name": "stdout",
     "output_type": "stream",
     "text": [
      "Tempo de treino: 0.454s\n"
     ]
    }
   ],
   "source": [
    "## Fazendo a regressão linear\n",
    "start = time.time()\n",
    "regressao = LinearRegression()\n",
    "regressao.fit(X_train, y_train)\n",
    "predict_regressao = regressao.predict(X_test)\n",
    "end = time.time()\n",
    "\n",
    "print(f\"Tempo de treino: {round(end - start,3)}s\")"
   ]
  },
  {
   "cell_type": "code",
   "execution_count": 22,
   "id": "9077f6e9-2d17-4f97-9cfc-328e8e0708eb",
   "metadata": {},
   "outputs": [
    {
     "name": "stdout",
     "output_type": "stream",
     "text": [
      "Tempo de treino: 80.827s\n"
     ]
    }
   ],
   "source": [
    "# Fazendo a RandomForestRegressor do sklearn\n",
    "start = time.time()\n",
    "random_forest = RandomForestRegressor(n_estimators=100, random_state=42)\n",
    "random_forest.fit(X_train, y_train)\n",
    "predicr_random_forest = random_forest.predict(X_test)\n",
    "end = time.time()\n",
    "print(f\"Tempo de treino: {round(end - start,3)}s\")"
   ]
  },
  {
   "cell_type": "code",
   "execution_count": 23,
   "id": "1546b91f-0310-4c0d-90e0-0d19cf34795b",
   "metadata": {},
   "outputs": [
    {
     "name": "stdout",
     "output_type": "stream",
     "text": [
      "📊 Regressão Linear Performance:\n",
      "MAE: 0.32\n",
      "RMSE: 0.44\n",
      "R²: 0.55\n",
      "----------------------------------------\n",
      "📊 Random Forest Performance:\n",
      "MAE: 0.32\n",
      "RMSE: 0.44\n",
      "R²: 0.56\n",
      "----------------------------------------\n"
     ]
    }
   ],
   "source": [
    "avaliar_modelo(y_test, predict_regressao, \"Regressão Linear\")\n",
    "avaliar_modelo(y_test, predicr_random_forest, \"Random Forest\")"
   ]
  },
  {
   "cell_type": "markdown",
   "id": "5f5419e7-6c2d-4673-a8a4-ec4b272f1841",
   "metadata": {},
   "source": [
    "## Salvando o modelo em pickle"
   ]
  },
  {
   "cell_type": "code",
   "execution_count": 24,
   "id": "4e7aa8f3-a8d6-4369-80ff-0ba2578bdfd9",
   "metadata": {},
   "outputs": [],
   "source": [
    "import pickle\n",
    "\n",
    "with open(\"modelo_random_forest.pkl\", \"wb\") as f:\n",
    "    pickle.dump(random_forest, f)  # 'rf' é o modelo treinado\n",
    "\n",
    "with open(\"modelo_linear_regression.pkl\", \"wb\") as f:\n",
    "    pickle.dump(regressao, f)  # 'rf' é o modelo treinado"
   ]
  },
  {
   "cell_type": "markdown",
   "id": "be1e4b3c-b4e4-4139-a21b-ce04d16651ec",
   "metadata": {},
   "source": [
    "## Pergunta 4: Prevendo o valor de um dado específico \n",
    "\n",
    "\n",
    "#### Notei que o registro já existia nos dados originais! Mas, usando o RandomForestRegression por bairro e tipo de quarto, o valor previsto foi  255.60 dólares"
   ]
  },
  {
   "cell_type": "code",
   "execution_count": 25,
   "id": "064c1a4c-7e2a-4481-b481-34d361172848",
   "metadata": {},
   "outputs": [],
   "source": [
    "## Carregando os dados novamente para gerar todas as features do treino\n",
    "df = pandas.read_csv(\"teste_indicium_precificacao.csv\")\n",
    "\n",
    "## A regressão linear não funciona muito bem com dados faltantes, então vou  tirar os valores nulos dos dados\n",
    "df = df.dropna()"
   ]
  },
  {
   "cell_type": "code",
   "execution_count": 26,
   "id": "4de5879b-e948-4961-a8f3-a660b5b82b10",
   "metadata": {},
   "outputs": [],
   "source": [
    "# Dado para ter o preço previsto\n",
    "data = {\n",
    "    'id': 2595,\n",
    "    'nome': 'Skylit Midtown Castle',\n",
    "    'host_id': 2845,\n",
    "    'host_name': 'Jennifer',\n",
    "    'bairro_group': 'Manhattan',\n",
    "    'bairro': 'Midtown',\n",
    "    'latitude': 40.75362,\n",
    "    'longitude': -73.98377,\n",
    "    'room_type': 'Entire home/apt',\n",
    "    'minimo_noites': 1,\n",
    "    'numero_de_reviews': 45,\n",
    "    'ultima_review': '2019-05-21',\n",
    "    'reviews_por_mes': 0.38,\n",
    "    'calculado_host_listings_count': 2,\n",
    "    'disponibilidade_365': 355\n",
    "}\n",
    "\n",
    "df_previsao = pandas.DataFrame([data])"
   ]
  },
  {
   "cell_type": "code",
   "execution_count": 27,
   "id": "c874fae9-8207-42e0-b7bf-711ac109b571",
   "metadata": {},
   "outputs": [
    {
     "data": {
      "text/html": [
       "<div>\n",
       "<style scoped>\n",
       "    .dataframe tbody tr th:only-of-type {\n",
       "        vertical-align: middle;\n",
       "    }\n",
       "\n",
       "    .dataframe tbody tr th {\n",
       "        vertical-align: top;\n",
       "    }\n",
       "\n",
       "    .dataframe thead th {\n",
       "        text-align: right;\n",
       "    }\n",
       "</style>\n",
       "<table border=\"1\" class=\"dataframe\">\n",
       "  <thead>\n",
       "    <tr style=\"text-align: right;\">\n",
       "      <th></th>\n",
       "      <th>id</th>\n",
       "      <th>nome</th>\n",
       "      <th>host_id</th>\n",
       "      <th>host_name</th>\n",
       "      <th>bairro_group</th>\n",
       "      <th>bairro</th>\n",
       "      <th>latitude</th>\n",
       "      <th>longitude</th>\n",
       "      <th>room_type</th>\n",
       "      <th>minimo_noites</th>\n",
       "      <th>numero_de_reviews</th>\n",
       "      <th>ultima_review</th>\n",
       "      <th>reviews_por_mes</th>\n",
       "      <th>calculado_host_listings_count</th>\n",
       "      <th>disponibilidade_365</th>\n",
       "    </tr>\n",
       "  </thead>\n",
       "  <tbody>\n",
       "    <tr>\n",
       "      <th>0</th>\n",
       "      <td>2595</td>\n",
       "      <td>Skylit Midtown Castle</td>\n",
       "      <td>2845</td>\n",
       "      <td>Jennifer</td>\n",
       "      <td>Manhattan</td>\n",
       "      <td>Midtown</td>\n",
       "      <td>40.75362</td>\n",
       "      <td>-73.98377</td>\n",
       "      <td>Entire home/apt</td>\n",
       "      <td>1</td>\n",
       "      <td>45</td>\n",
       "      <td>2019-05-21</td>\n",
       "      <td>0.38</td>\n",
       "      <td>2</td>\n",
       "      <td>355</td>\n",
       "    </tr>\n",
       "  </tbody>\n",
       "</table>\n",
       "</div>"
      ],
      "text/plain": [
       "     id                   nome  host_id host_name bairro_group   bairro  \\\n",
       "0  2595  Skylit Midtown Castle     2845  Jennifer    Manhattan  Midtown   \n",
       "\n",
       "   latitude  longitude        room_type  minimo_noites  numero_de_reviews  \\\n",
       "0  40.75362  -73.98377  Entire home/apt              1                 45   \n",
       "\n",
       "  ultima_review  reviews_por_mes  calculado_host_listings_count  \\\n",
       "0    2019-05-21             0.38                              2   \n",
       "\n",
       "   disponibilidade_365  \n",
       "0                  355  "
      ]
     },
     "execution_count": 27,
     "metadata": {},
     "output_type": "execute_result"
    }
   ],
   "source": [
    "df_previsao"
   ]
  },
  {
   "cell_type": "code",
   "execution_count": 28,
   "id": "8fbbb53d-ff4c-4d80-8d4d-d27a079ab44a",
   "metadata": {},
   "outputs": [],
   "source": [
    "## Adicionando o novo dado para a geração de features\n",
    "df_previsao = pandas.concat([df, df_previsao], ignore_index=True)"
   ]
  },
  {
   "cell_type": "code",
   "execution_count": 29,
   "id": "3cdb4382-7746-4fe8-87b4-962e46875d7d",
   "metadata": {},
   "outputs": [],
   "source": [
    "df_previsao = pandas.get_dummies(df_previsao, columns=['bairro', 'room_type'], drop_first=True)"
   ]
  },
  {
   "cell_type": "code",
   "execution_count": null,
   "id": "94a6452d-4edd-47e0-88b9-5e8808b4f0f9",
   "metadata": {},
   "outputs": [],
   "source": []
  },
  {
   "cell_type": "code",
   "execution_count": 30,
   "id": "5410291f-6776-462b-98fe-5cc297343a27",
   "metadata": {},
   "outputs": [],
   "source": [
    "df_previsao = df_previsao[df_previsao['id'] == 2595]"
   ]
  },
  {
   "cell_type": "code",
   "execution_count": 59,
   "id": "493abbb4-5cae-494e-bdce-59a8214d687b",
   "metadata": {},
   "outputs": [],
   "source": [
    "## Olha sóóóó, aqui vejo que o dado para ser previsto já estava presente na base original!"
   ]
  },
  {
   "cell_type": "code",
   "execution_count": 32,
   "id": "220be5fa-1d45-4406-bba7-58d89b4b2e7e",
   "metadata": {},
   "outputs": [],
   "source": [
    "features =[col for col in df_previsao.columns if (col.startswith('bairro_') and col != 'bairro_group')  or col.startswith('room_type_')]\n",
    "\n",
    "predict = 'price'"
   ]
  },
  {
   "cell_type": "code",
   "execution_count": 33,
   "id": "90265fae-d28f-4cc1-ac63-4af01e0ab179",
   "metadata": {},
   "outputs": [],
   "source": [
    "df_previsao = df_previsao[features]"
   ]
  },
  {
   "cell_type": "code",
   "execution_count": null,
   "id": "9edaa119-9acf-4f55-9995-d37b5466751d",
   "metadata": {},
   "outputs": [],
   "source": []
  },
  {
   "cell_type": "code",
   "execution_count": 42,
   "id": "4f06ca22-9689-4595-ab1d-b969972f0efd",
   "metadata": {},
   "outputs": [],
   "source": [
    "predict_regressao = regressao.predict(df_previsao)"
   ]
  },
  {
   "cell_type": "code",
   "execution_count": 43,
   "id": "2553071e-7953-4114-99a2-358880967eb7",
   "metadata": {},
   "outputs": [],
   "source": [
    "predict_regressao_convertido = np.expm1(predict_regressao)"
   ]
  },
  {
   "cell_type": "code",
   "execution_count": 45,
   "id": "38b39a7b-c677-45ac-85e3-9f444756fd85",
   "metadata": {},
   "outputs": [
    {
     "data": {
      "text/plain": [
       "array([255.60253859, 255.60253859])"
      ]
     },
     "execution_count": 45,
     "metadata": {},
     "output_type": "execute_result"
    }
   ],
   "source": [
    "predict_regressao_convertido "
   ]
  },
  {
   "cell_type": "markdown",
   "id": "f5141ac0-94d9-422e-a0b1-2e4dcb0839f8",
   "metadata": {},
   "source": [
    "# 2b) Análise do impacto mínimo de noites e a disponibilidade\n",
    "\n",
    "#### Parece que a correlação entre o minimo de noites e disponibilidade afeta bem pouco o preço"
   ]
  },
  {
   "cell_type": "code",
   "execution_count": 46,
   "id": "9e2872f6-1c05-4b6e-8599-07a3204c3b03",
   "metadata": {},
   "outputs": [],
   "source": [
    "df = pandas.read_csv(\"teste_indicium_precificacao.csv\")"
   ]
  },
  {
   "cell_type": "code",
   "execution_count": 49,
   "id": "f38f49de-0349-405e-b876-5d6bffaa95f1",
   "metadata": {},
   "outputs": [
    {
     "data": {
      "image/png": "[encoded data removed]",
      "text/plain": [
       "<Figure size 600x400 with 2 Axes>"
      ]
     },
     "metadata": {},
     "output_type": "display_data"
    }
   ],
   "source": [
    "matrix_corr = df[['price', 'minimo_noites', 'disponibilidade_365']].corr()\n",
    "\n",
    "plt.figure(figsize=(6, 4))\n",
    "sns.heatmap(matrix_corr, annot=True, cmap=\"coolwarm\", fmt=\".2f\")\n",
    "plt.title(\"Correlação entre Preço, Mínimo de Noites e Disponibilidade\")\n",
    "plt.show()"
   ]
  },
  {
   "cell_type": "markdown",
   "id": "f8307f4e-ab3e-4071-aeb6-090f65254d01",
   "metadata": {},
   "source": [
    "# 2a) Onde comprar imóveis?\n",
    "\n",
    "#### Considerando que essa base de anúncios possuí só o valor de preços do anúncios, não consigo garantir quantos dias eles estão alocados por mês. Também não sei se o valor do anúncio é por dia ou se é pelo período total da disponibilidade minima. Ainda assim, apesar de ingênua, vou considerar o seguinte:\n",
    "\n",
    "#### O tamanho médio dos aluguéis sejam próximos em cada bairro group\n",
    "#### Os anúncios são alocados com uma mesma frequência\n",
    "\n",
    "#### Então, pesquisei o preço do metro quadrado na internet e farei a seguinte recomendação:\n",
    "Preço metro quadrado Manhattan: https://rocket.com/homes/market-reports/ny/manhattan\n",
    "\n",
    "Preço metro quadrado Brooklyn: https://rocket.com/homes/market-reports/ny/brooklyn\n",
    "\n",
    "Preço metro quadrado Queens: https://rocket.com/homes/market-reports/ny/queens\n",
    "\n",
    "Preço metro quadrado Bronx: https://rocket.com/homes/market-reports/ny/bronx\n",
    "\n",
    "Preço metro quadrado Staten Island: https://rocket.com/homes/market-reports/ny/staten-island\n",
    "\n",
    "#### A partir do preço médio de cada bairro group, qual seria o valor se eu dividisse pelo preço médio do metro quadrado? Ou seja, qual é o maior preço de aluguel por metro quadrado entre os bairro groups?\n",
    "\n",
    "### Eu recomendaria comprar no Bronx!"
   ]
  },
  {
   "cell_type": "code",
   "execution_count": 50,
   "id": "740e08a3-a070-4c81-b8e0-a300907ad782",
   "metadata": {},
   "outputs": [],
   "source": [
    "df = pandas.read_csv(\"teste_indicium_precificacao.csv\")\n",
    "df = df.dropna()\n",
    "preco_metro_df = pandas.read_csv(\"preco_metro_ny.csv\")"
   ]
  },
  {
   "cell_type": "code",
   "execution_count": 51,
   "id": "1197c62e-14d8-40c3-9056-f1802485212e",
   "metadata": {},
   "outputs": [],
   "source": [
    "## Tirando os outliers mais altos:\n",
    "quantidade_alta = df[\"price\"].quantile(0.95)\n",
    "\n",
    "# Filtrar o DataFrame para manter apenas os valores dentro do intervalo desejado\n",
    "df_price_sem_altos = df[((df[\"price\"] <= quantidade_alta))]"
   ]
  },
  {
   "cell_type": "code",
   "execution_count": 52,
   "id": "c7d396b7-72ef-4242-946b-eaab061bea9b",
   "metadata": {},
   "outputs": [],
   "source": [
    "media_preco_bairro = df.groupby('bairro_group')['price'].mean().sort_values(ascending=False).reset_index()"
   ]
  },
  {
   "cell_type": "code",
   "execution_count": 53,
   "id": "799e1e00-c346-412f-83f8-0270466e9f27",
   "metadata": {},
   "outputs": [],
   "source": [
    "media_preco_bairro = media_preco_bairro.merge(preco_metro_df, on=\"bairro_group\")"
   ]
  },
  {
   "cell_type": "code",
   "execution_count": 54,
   "id": "dd9afeca-629c-409b-9ede-af6a9b195303",
   "metadata": {},
   "outputs": [],
   "source": [
    "media_preco_bairro[\"preco_anuncio_por_metro_quadrado\"] = media_preco_bairro[\"price\"]/media_preco_bairro[\"preco_metro_quadrado\"]"
   ]
  },
  {
   "cell_type": "code",
   "execution_count": 55,
   "id": "0125e774-5d45-4c3d-88c8-724db990dc9b",
   "metadata": {},
   "outputs": [
    {
     "data": {
      "text/html": [
       "<div>\n",
       "<style scoped>\n",
       "    .dataframe tbody tr th:only-of-type {\n",
       "        vertical-align: middle;\n",
       "    }\n",
       "\n",
       "    .dataframe tbody tr th {\n",
       "        vertical-align: top;\n",
       "    }\n",
       "\n",
       "    .dataframe thead th {\n",
       "        text-align: right;\n",
       "    }\n",
       "</style>\n",
       "<table border=\"1\" class=\"dataframe\">\n",
       "  <thead>\n",
       "    <tr style=\"text-align: right;\">\n",
       "      <th></th>\n",
       "      <th>bairro_group</th>\n",
       "      <th>price</th>\n",
       "      <th>preco_metro_quadrado</th>\n",
       "      <th>preco_anuncio_por_metro_quadrado</th>\n",
       "    </tr>\n",
       "  </thead>\n",
       "  <tbody>\n",
       "    <tr>\n",
       "      <th>0</th>\n",
       "      <td>Manhattan</td>\n",
       "      <td>180.071596</td>\n",
       "      <td>1386</td>\n",
       "      <td>0.129922</td>\n",
       "    </tr>\n",
       "    <tr>\n",
       "      <th>1</th>\n",
       "      <td>Brooklyn</td>\n",
       "      <td>121.461613</td>\n",
       "      <td>721</td>\n",
       "      <td>0.168463</td>\n",
       "    </tr>\n",
       "    <tr>\n",
       "      <th>2</th>\n",
       "      <td>Queens</td>\n",
       "      <td>95.783683</td>\n",
       "      <td>523</td>\n",
       "      <td>0.183143</td>\n",
       "    </tr>\n",
       "    <tr>\n",
       "      <th>3</th>\n",
       "      <td>Staten Island</td>\n",
       "      <td>89.964968</td>\n",
       "      <td>402</td>\n",
       "      <td>0.223793</td>\n",
       "    </tr>\n",
       "    <tr>\n",
       "      <th>4</th>\n",
       "      <td>Bronx</td>\n",
       "      <td>79.558857</td>\n",
       "      <td>346</td>\n",
       "      <td>0.229939</td>\n",
       "    </tr>\n",
       "  </tbody>\n",
       "</table>\n",
       "</div>"
      ],
      "text/plain": [
       "    bairro_group       price  preco_metro_quadrado  \\\n",
       "0      Manhattan  180.071596                  1386   \n",
       "1       Brooklyn  121.461613                   721   \n",
       "2         Queens   95.783683                   523   \n",
       "3  Staten Island   89.964968                   402   \n",
       "4          Bronx   79.558857                   346   \n",
       "\n",
       "   preco_anuncio_por_metro_quadrado  \n",
       "0                          0.129922  \n",
       "1                          0.168463  \n",
       "2                          0.183143  \n",
       "3                          0.223793  \n",
       "4                          0.229939  "
      ]
     },
     "execution_count": 55,
     "metadata": {},
     "output_type": "execute_result"
    }
   ],
   "source": [
    "media_preco_bairro"
   ]
  },
  {
   "cell_type": "code",
   "execution_count": null,
   "id": "f62f8b0f-4d96-4d26-a1ea-dee6041dde85",
   "metadata": {},
   "outputs": [],
   "source": []
  }
 ],
 "metadata": {
  "kernelspec": {
   "display_name": "Python 3 (ipykernel)",
   "language": "python",
   "name": "python3"
  },
  "language_info": {
   "codemirror_mode": {
    "name": "ipython",
    "version": 3
   },
   "file_extension": ".py",
   "mimetype": "text/x-python",
   "name": "python",
   "nbconvert_exporter": "python",
   "pygments_lexer": "ipython3",
   "version": "3.12.8"
  }
 },
 "nbformat": 4,
 "nbformat_minor": 5
}
